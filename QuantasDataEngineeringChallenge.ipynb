{
 "cells": [
  {
   "cell_type": "markdown",
   "metadata": {},
   "source": [
    "## Qantas Data Engineer Challenge\n",
    "\n",
    "### Problem Statement\n",
    "\n",
    "### Data Set : \n",
    "\n",
    "This is a public dataset that contains data about 51,566 pubs in England. Pubs, or public houses, is an establishment licensed to sell alocholic drinks and food. It's a social drinking establishment and a prominent part of British, Irish, New Zealand, Canadian, South African and Australian cultures. In many places, especially in villages, a pub is the focal point of the community.\n",
    "\n",
    "##### Format : csv \n",
    "##### Columns\n",
    "\n",
    "1. fsa_id (int): Food Standard Agency's ID for this pub.\n",
    "2. name (string): Name of the pub\n",
    "3. address (string): Address fields separated by commas.\n",
    "4. postcode (string): Postcode of the pub.\n",
    "5. easting (int)\n",
    "6. northing (int)\n",
    "7. latitude (decimal)\n",
    "8. longitude (decimal)\n",
    "9. local_authority (string): Local authority this pub falls under.\n",
    "\n",
    "\n",
    "##### Data Engineer Questions\n",
    "\n",
    "Write clean Pyspark code to answer any two of the following questions. \n",
    "\n",
    "1. Please refrain from using embedded queries in the code. Pyspark.sql.functions is preferred over sql queries.\n",
    "2. Proper comments and unit test cases are appreciated.\n",
    "3. Share the output data & the code via a github repo.\n",
    "\n",
    "#### Questions\n",
    "\n",
    "1. Which is the most isolated pub in England ?\n",
    "2. Which local_authority has the least number of pubs?\n",
    "3. Which 5 words are the most common words used in the English pub names ?\n",
    "4. Which Street in England has the highest number of pubs?\n"
   ]
  },
  {
   "cell_type": "markdown",
   "metadata": {},
   "source": [
    "### Data Cleansing Steps:\n",
    "\n",
    "1. Some of the rows (roughly 10) has the latitude and longitude information as '\\\\N' and it is filtered.\n",
    "2. Some of the latitude and longitude information are invalid."
   ]
  },
  {
   "cell_type": "code",
   "execution_count": 78,
   "metadata": {},
   "outputs": [],
   "source": [
    "## Imports\n",
    "from pyspark import SparkContext as sc\n",
    "from pyspark.sql import SparkSession, Row\n",
    "from pyspark.sql.functions import *\n",
    "from pyspark.sql.types import *\n",
    "import geopy.distance\n",
    "\n",
    "# SparkSession and Log4j initialization\n",
    "spark = SparkSession.builder.appName(\"QantasDataEngineering\").getOrCreate()\n",
    "log4jLogger = spark._jvm.org.apache.log4j\n",
    "log = log4jLogger.LogManager.getLogger(__name__)\n",
    "\n",
    "# Utility method to get the distance from center in miles for the latitude and longitude coordinates provided\n",
    "def getGeoDistanceFromLeicester(coords):\n",
    "        try:\n",
    "            coordslat,coordslong = coords.split(\",\")\n",
    "            coordsRefined = (float(coordslat), float(coordslong))\n",
    "            print(coordsRefined)\n",
    "            england_center_lat = 52.6369\n",
    "            england_center_long = 1.1398\n",
    "            england_center_coords = (england_center_lat, england_center_long)\n",
    "            return geopy.distance.distance(england_center_coords, coordsRefined).miles\n",
    "        except ValueError:\n",
    "            return 0.0\n",
    "\n",
    "# Register the function as udf in spark to use later\n",
    "geoUdf = udf(getGeoDistanceFromLeicester)    \n",
    "        \n",
    "class PubsDataAnalyzer:\n",
    "#   Method to load pubs data based on the passed file. The default format is csv.\n",
    "    def loadPubsData(self, filePath, format = \"csv\"):\n",
    "        log.info(f\"loading Pub Info from ${filePath}\")\n",
    "        pubsData = spark.read.format(format).options(header=\"true\", inferSchema=\"true\").option(\"quote\", \"\\\"\").option(\"escape\", \"\\\"\").load(filePath)\n",
    "        log.info(f\"Finished loading Pub Info from ${filePath}\")\n",
    "        return pubsData\n",
    "    \n",
    "#   Method that cleanse the data set by removing some invalid characters for latitude longitude field and adding \n",
    "#   a way to calculate the distance from the center using the registered udf function.\n",
    "    def getCleansedAndModifiedPubsData(self,dataset):\n",
    "        pubsData = self.loadPubsData(dataset)\n",
    "        pubsDataConcatenated = pubsData.withColumn(\"lat_long\", concat_ws(\",\", pubsData.latitude, pubsData.longitude))\n",
    "        pubsDataCleansed = pubsDataConcatenated.filter(pubsDataConcatenated.lat_long != '\\\\N,\\\\N')\n",
    "        pubsDataCleansedAndModified = pubsDataCleansed.withColumn(\"distance\", geoUdf(pubsDataConcatenated.lat_long))\n",
    "        pubsDataCleansedAndModified = pubsDataCleansedAndModified.withColumn(\"distance\", pubsDataCleansedAndModified.distance.cast(FloatType()))\n",
    "        return pubsDataCleansedAndModified"
   ]
  },
  {
   "cell_type": "code",
   "execution_count": 79,
   "metadata": {},
   "outputs": [],
   "source": [
    "# Instantiate PubsDataAnalyzer and call the method getCleansedAndModifiedPubsData with file path.\n",
    "filePath = \"<path-to-the-file>/pubs_in_england.csv\"\n",
    "pubsDataModified=PubsDataAnalyzer().getCleansedAndModifiedPubsData(filePath)"
   ]
  },
  {
   "cell_type": "code",
   "execution_count": 80,
   "metadata": {},
   "outputs": [
    {
     "data": {
      "text/plain": [
       "51496"
      ]
     },
     "execution_count": 80,
     "metadata": {},
     "output_type": "execute_result"
    }
   ],
   "source": [
    "pubsDataModified.count()"
   ]
  },
  {
   "cell_type": "code",
   "execution_count": 102,
   "metadata": {},
   "outputs": [
    {
     "data": {
      "text/plain": [
       "[Row(fas_id='24', name='Anchor Inn', address='Upper Street, Stratford St Mary, COLCHESTER, Essex', postcode='CO7 6LW', easting='604748', northing='234405', latitude='51.97039', longitude='0.979328', local_authority='Babergh', lat_long='51.97039,0.979328', distance=46.582969665527344),\n",
       " Row(fas_id='30', name='Angel Inn', address='Egremont Street, Glemsford, SUDBURY, Suffolk', postcode='CO10 7SA', easting='582888', northing='247368', latitude='52.094427', longitude='0.668408', local_authority='Babergh', lat_long='52.094427,0.668408', distance=42.484336853027344),\n",
       " Row(fas_id='63', name='Black Boy Hotel', address='7 Market Hill, SUDBURY, Suffolk', postcode='CO10 2EA', easting='587356', northing='241327', latitude='52.038683', longitude='0.730226', local_authority='Babergh', lat_long='52.038683,0.730226', distance=44.85206985473633),\n",
       " Row(fas_id='64', name='Black Horse', address='Lower Street, Stratford St Mary, COLCHESTER, Essex', postcode='CO7 6JS', easting='604270', northing='233920', latitude='51.966211', longitude='0.972091', local_authority='Babergh', lat_long='51.966211,0.972091', distance=46.914363861083984),\n",
       " Row(fas_id='65', name='Black Lion', address='Lion Road, Glemsford, SUDBURY, Suffolk', postcode='CO10 7RF', easting='582750', northing='248298', latitude='52.102815', longitude='0.666893', local_authority='Babergh', lat_long='52.102815,0.666893', distance=42.00282669067383)]"
      ]
     },
     "execution_count": 102,
     "metadata": {},
     "output_type": "execute_result"
    }
   ],
   "source": [
    "# Sample Data\n",
    "pubsDataModified.take(5)"
   ]
  },
  {
   "cell_type": "markdown",
   "metadata": {},
   "source": [
    "### 1. Which is the most isolated pub in England ?\n",
    "\n",
    "The data set provided contains all the pub information in UK as a whole. I have tried to come up with the hypothesis to locate the geographical center of England and calculate how much distance each of the pub is from the center. By doing that calculation #### \"Ness F C Social Club\" seems to be the farthest in UK with 497 miles away from center."
   ]
  },
  {
   "cell_type": "code",
   "execution_count": 81,
   "metadata": {},
   "outputs": [
    {
     "data": {
      "text/plain": [
       "[Row(fas_id='445339', name='Ness F C Social Club', address='Social Club, Fivepenny, Ness, Isle Of Lewis', postcode='HS2 0XB', easting='152853', northing='963481', latitude='58.489238', longitude='-6.242496', local_authority='Na h-Eileanan Siar', lat_long='58.489238,-6.242496', distance=497.05377197265625)]"
      ]
     },
     "execution_count": 81,
     "metadata": {},
     "output_type": "execute_result"
    }
   ],
   "source": [
    "# Maximum distance is calculated from the center to identify the most isolated pub.\n",
    "# The location of the pub in the map below indeed confirms that it is isolated from the center.\n",
    "max_distance = pubsDataModified.groupBy().agg(max('distance').alias('max_distance')).collect()[0].max_distance\n",
    "pubsDataIsolated = pubsDataModified.filter(pubsDataModified.distance == max_distance)\n",
    "pubsDataIsolated.collect()"
   ]
  },
  {
   "attachments": {},
   "cell_type": "markdown",
   "metadata": {},
   "source": [
    "![Location of Ness F C Social Club](MapScreenshot.png \"Location of Ness F C Social Club\")"
   ]
  },
  {
   "cell_type": "markdown",
   "metadata": {},
   "source": [
    "#### There are totally 9 pubs in the given dataset with England in their address"
   ]
  },
  {
   "cell_type": "code",
   "execution_count": 82,
   "metadata": {},
   "outputs": [
    {
     "data": {
      "text/plain": [
       "9"
      ]
     },
     "execution_count": 82,
     "metadata": {},
     "output_type": "execute_result"
    }
   ],
   "source": [
    "# Tried to do regex match on England in address field to get the list of records corresponding to England.\n",
    "pubsInEngland = pubsDataModified.filter(pubsDataModified.address.rlike('.*England.*')).collect()\n",
    "len(pubsInEngland)"
   ]
  },
  {
   "cell_type": "markdown",
   "metadata": {},
   "source": [
    "### 2. Which Local Authority has Least Number of Pubs??"
   ]
  },
  {
   "cell_type": "code",
   "execution_count": 85,
   "metadata": {},
   "outputs": [
    {
     "data": {
      "text/plain": [
       "[Row(local_authority='Tower Hamlets', no_of_pubs=1)]"
      ]
     },
     "execution_count": 85,
     "metadata": {},
     "output_type": "execute_result"
    }
   ],
   "source": [
    "# Aggregate by Local Authority and take the minimum by ordering by number of pubs and taking the 1st one in the result\n",
    "noOfPubsByLocalAuthority = pubsDataModified.groupBy('local_authority').agg(count('fas_id').alias('no_of_pubs')).orderBy('no_of_pubs').limit(1)\n",
    "noOfPubsByLocalAuthority.collect()"
   ]
  },
  {
   "cell_type": "markdown",
   "metadata": {},
   "source": [
    "#### From the above result, the local authority with minimum number of pubs is Tower Hamlets with 1 Pub"
   ]
  },
  {
   "cell_type": "markdown",
   "metadata": {},
   "source": [
    "### 3. Which 5 words are the most common words used in the English pub names ?"
   ]
  },
  {
   "cell_type": "code",
   "execution_count": 86,
   "metadata": {},
   "outputs": [
    {
     "data": {
      "text/plain": [
       "[Row(name='Club', count=9395),\n",
       " Row(name='Inn', count=7131),\n",
       " Row(name='Arms', count=3049),\n",
       " Row(name='Bar', count=2319),\n",
       " Row(name='House', count=2131)]"
      ]
     },
     "execution_count": 86,
     "metadata": {},
     "output_type": "execute_result"
    }
   ],
   "source": [
    "# Declare a set of words that are coming up in top ten but those are stop words.\n",
    "# Split based on the name of the pub and explore to separate rows for us to be able to group by and do the count.\n",
    "\n",
    "rejectWordList = ['The', '&', 'And', 'and']\n",
    "pubNameCountSorted = pubsDataModified.select(explode(split(pubsDataModified.name,\" \")).alias('name')).groupBy('name').count().sort('count', ascending=False)\n",
    "pubNameCountSorted.filter(~pubNameCountSorted.name.isin(rejectWordList)).limit(5).collect()"
   ]
  },
  {
   "cell_type": "markdown",
   "metadata": {},
   "source": [
    "#### Top 5 common words used in English Pub Names is shown above."
   ]
  },
  {
   "cell_type": "markdown",
   "metadata": {},
   "source": [
    "### 4. Which Street in England has the highest number of pubs?"
   ]
  },
  {
   "cell_type": "code",
   "execution_count": 87,
   "metadata": {},
   "outputs": [
    {
     "data": {
      "text/plain": [
       "[Row(streets='High Street', count=473)]"
      ]
     },
     "execution_count": 87,
     "metadata": {},
     "output_type": "execute_result"
    }
   ],
   "source": [
    "# The address column is split based on \",\" and then the first portion which is the street name is taken and then grouped \n",
    "# based on the streets. The count of pubs is extracted and the highest one in terms of number of pubs is returned.\n",
    "pubsDataStreetWithHighestPubs = pubsDataModified.select(split(pubsDataModified.address,\",\")[0].alias('streets')).groupBy('streets').count().sort('count', ascending=False)\n",
    "pubsDataStreetWithHighestPubs.limit(1).collect()"
   ]
  },
  {
   "cell_type": "markdown",
   "metadata": {},
   "source": [
    "### Unit Test\n",
    "\n",
    "Unit Test Cases are written to test the overall sanity of the dataset. The test validates the input file and the functionality of the class. The tests also look for any data integrity gaps that may require specific cleansing that needs to be done before the processing.\n",
    "\n"
   ]
  },
  {
   "cell_type": "code",
   "execution_count": 113,
   "metadata": {},
   "outputs": [
    {
     "name": "stderr",
     "output_type": "stream",
     "text": [
      "test (__main__.MyTest) ... ok\n",
      "test_check_match_count_fas_id (__main__.TestQuantasDataEngineer) ... ok\n",
      "test_check_valid_fas_id (__main__.TestQuantasDataEngineer) ... ok\n",
      "test_count_of_distinct_local_authorities (__main__.TestQuantasDataEngineer) ... ok\n",
      "test_count_of_records (__main__.TestQuantasDataEngineer) ... ok\n",
      "test_modified_count_of_records (__main__.TestQuantasDataEngineer) ... ok\n",
      "test_isupper (__main__.TestStringMethods) ... ok\n",
      "test_upper (__main__.TestStringMethods) ... ok\n",
      "\n",
      "----------------------------------------------------------------------\n",
      "Ran 8 tests in 6.278s\n",
      "\n",
      "OK\n"
     ]
    }
   ],
   "source": [
    "import unittest\n",
    "\n",
    "class TestQuantasDataEngineer(unittest.TestCase):\n",
    "    \n",
    "    def setUp(self):\n",
    "        file = \"<path-to-the-file>/pubs_in_england.csv\"\n",
    "        self.file = file\n",
    "        self.pubsData=PubsDataAnalyzer().loadPubsData(file)\n",
    "        self.pubsDataMod=PubsDataAnalyzer().getCleansedAndModifiedPubsData(filePath)\n",
    "        \n",
    "    def test_count_of_records(self):\n",
    "        count_of_records=51566\n",
    "        self.assertEqual(self.pubsData.count(), count_of_records)\n",
    "        \n",
    "    def test_modified_count_of_records(self):\n",
    "        count_of_records=51496\n",
    "        self.assertEqual(self.pubsDataMod.count(), count_of_records)\n",
    "        \n",
    "    def test_count_of_distinct_local_authorities(self):\n",
    "        count_of_distinct_local_authorities=376\n",
    "        self.assertEqual(self.pubsDataMod.select('local_authority').distinct().count(), count_of_distinct_local_authorities)\n",
    "        \n",
    "    def test_check_valid_fas_id(self):\n",
    "        self.assertEqual(self.pubsDataMod.select('fas_id').filter(\"fas_id == ''\").count(), 0)\n",
    "        \n",
    "    def test_check_match_count_fas_id(self):\n",
    "        count_of_records=51496\n",
    "        self.assertEqual(self.pubsDataMod.select('fas_id').distinct().count(),count_of_records)\n",
    "\n",
    "if __name__ == '__main__':\n",
    "    unittest.main(argv=[''], verbosity=2, exit=False)\n",
    "#     unittest.main()\n",
    "        \n",
    "# "
   ]
  },
  {
   "cell_type": "code",
   "execution_count": null,
   "metadata": {},
   "outputs": [],
   "source": []
  }
 ],
 "metadata": {
  "kernelspec": {
   "display_name": "Python 3",
   "language": "python",
   "name": "python3"
  },
  "language_info": {
   "codemirror_mode": {
    "name": "ipython",
    "version": 3
   },
   "file_extension": ".py",
   "mimetype": "text/x-python",
   "name": "python",
   "nbconvert_exporter": "python",
   "pygments_lexer": "ipython3",
   "version": "3.7.4"
  }
 },
 "nbformat": 4,
 "nbformat_minor": 2
}
